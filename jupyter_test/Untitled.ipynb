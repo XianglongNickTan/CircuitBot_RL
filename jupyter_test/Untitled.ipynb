{
 "cells": [
  {
   "cell_type": "code",
   "execution_count": 15,
   "id": "5775b828",
   "metadata": {},
   "outputs": [],
   "source": [
    "import numpy as np\n",
    "from gym import spaces, Env\n"
   ]
  },
  {
   "cell_type": "code",
   "execution_count": 61,
   "id": "804a203a",
   "metadata": {},
   "outputs": [],
   "source": [
    "action_space = spaces.Box( low=np.array([[22, 8], [22, 8], [0, 1]]),\n",
    "                high=np.array([[60, 48],[60, 48], [0, 1]]),\n",
    "                          shape=(3,2),\n",
    "                dtype=np.int)"
   ]
  },
  {
   "cell_type": "code",
   "execution_count": 62,
   "id": "99c92b12",
   "metadata": {},
   "outputs": [
    {
     "data": {
      "text/plain": [
       "array([[34, 10],\n",
       "       [38, 18],\n",
       "       [ 0,  1]])"
      ]
     },
     "execution_count": 62,
     "metadata": {},
     "output_type": "execute_result"
    }
   ],
   "source": [
    "action_space.sample()"
   ]
  },
  {
   "cell_type": "code",
   "execution_count": null,
   "id": "01b62415",
   "metadata": {},
   "outputs": [],
   "source": []
  },
  {
   "cell_type": "code",
   "execution_count": null,
   "id": "f007cad1",
   "metadata": {},
   "outputs": [],
   "source": []
  },
  {
   "cell_type": "code",
   "execution_count": null,
   "id": "0a06b40a",
   "metadata": {},
   "outputs": [],
   "source": []
  },
  {
   "cell_type": "code",
   "execution_count": null,
   "id": "9fcbd54d",
   "metadata": {},
   "outputs": [],
   "source": []
  }
 ],
 "metadata": {
  "kernelspec": {
   "display_name": "Python [conda env:robot] *",
   "language": "python",
   "name": "conda-env-robot-py"
  },
  "language_info": {
   "codemirror_mode": {
    "name": "ipython",
    "version": 3
   },
   "file_extension": ".py",
   "mimetype": "text/x-python",
   "name": "python",
   "nbconvert_exporter": "python",
   "pygments_lexer": "ipython3",
   "version": "3.7.9"
  }
 },
 "nbformat": 4,
 "nbformat_minor": 5
}
