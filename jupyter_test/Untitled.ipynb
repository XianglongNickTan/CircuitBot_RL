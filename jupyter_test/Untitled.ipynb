{
 "cells": [
  {
   "cell_type": "code",
   "execution_count": 1,
   "id": "5775b828",
   "metadata": {},
   "outputs": [],
   "source": [
    "import numpy as np\n",
    "from gym import spaces, Env\n"
   ]
  },
  {
   "cell_type": "code",
   "execution_count": 61,
   "id": "804a203a",
   "metadata": {},
   "outputs": [],
   "source": [
    "action_space = spaces.Box( low=np.array([[22, 8], [22, 8], [0, 1]]),\n",
    "                high=np.array([[60, 48],[60, 48], [0, 1]]),\n",
    "                          shape=(3,2),\n",
    "                dtype=np.int)"
   ]
  },
  {
   "cell_type": "code",
   "execution_count": 62,
   "id": "99c92b12",
   "metadata": {},
   "outputs": [
    {
     "data": {
      "text/plain": [
       "array([[34, 10],\n",
       "       [38, 18],\n",
       "       [ 0,  1]])"
      ]
     },
     "execution_count": 62,
     "metadata": {},
     "output_type": "execute_result"
    }
   ],
   "source": [
    "action_space.sample()"
   ]
  },
  {
   "cell_type": "code",
   "execution_count": 2,
   "id": "01b62415",
   "metadata": {},
   "outputs": [],
   "source": [
    "action_space = spaces.Box( low=np.array([22, 8, 22, 8, 0]),\n",
    "                high=np.array([60, 48,60, 48, 1]),\n",
    "                dtype=np.int)"
   ]
  },
  {
   "cell_type": "code",
   "execution_count": 60,
   "id": "e6c373f7",
   "metadata": {},
   "outputs": [
    {
     "data": {
      "text/plain": [
       "array([33, 27, 24, 12,  1])"
      ]
     },
     "execution_count": 60,
     "metadata": {},
     "output_type": "execute_result"
    }
   ],
   "source": [
    "a = action_space.sample()\n",
    "a"
   ]
  },
  {
   "cell_type": "code",
   "execution_count": 5,
   "id": "f007cad1",
   "metadata": {},
   "outputs": [
    {
     "data": {
      "text/plain": [
       "29"
      ]
     },
     "execution_count": 5,
     "metadata": {},
     "output_type": "execute_result"
    }
   ],
   "source": [
    "a[0]"
   ]
  },
  {
   "cell_type": "code",
   "execution_count": 4,
   "id": "0a06b40a",
   "metadata": {},
   "outputs": [],
   "source": [
    "a = np.array([0, 1, 2])\n"
   ]
  },
  {
   "cell_type": "code",
   "execution_count": 5,
   "id": "9fcbd54d",
   "metadata": {},
   "outputs": [
    {
     "data": {
      "text/plain": [
       "array([0, 2, 4])"
      ]
     },
     "execution_count": 5,
     "metadata": {},
     "output_type": "execute_result"
    }
   ],
   "source": [
    "a*2"
   ]
  },
  {
   "cell_type": "code",
   "execution_count": null,
   "id": "3b20f288",
   "metadata": {},
   "outputs": [],
   "source": []
  }
 ],
 "metadata": {
  "kernelspec": {
   "display_name": "Python [conda env:robot] *",
   "language": "python",
   "name": "conda-env-robot-py"
  },
  "language_info": {
   "codemirror_mode": {
    "name": "ipython",
    "version": 3
   },
   "file_extension": ".py",
   "mimetype": "text/x-python",
   "name": "python",
   "nbconvert_exporter": "python",
   "pygments_lexer": "ipython3",
   "version": "3.7.9"
  }
 },
 "nbformat": 4,
 "nbformat_minor": 5
}
