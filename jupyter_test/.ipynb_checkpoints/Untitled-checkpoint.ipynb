{
 "cells": [
  {
   "cell_type": "code",
   "execution_count": 15,
   "id": "d091bce3",
   "metadata": {},
   "outputs": [],
   "source": [
    "import numpy as np\n",
    "from gym import spaces, Env\n"
   ]
  },
  {
   "cell_type": "code",
   "execution_count": 30,
   "id": "62546349",
   "metadata": {},
   "outputs": [],
   "source": [
    "action_space = spaces.Box( low=np.array([[22, 8], [22, 8]]),\n",
    "                high=np.array([[60, 48],[60, 48]]),\n",
    "                          shape=(2,2),\n",
    "                dtype=np.int)"
   ]
  },
  {
   "cell_type": "code",
   "execution_count": 47,
   "id": "3357e845",
   "metadata": {},
   "outputs": [
    {
     "data": {
      "text/plain": [
       "array([[56, 16],\n",
       "       [33, 35]])"
      ]
     },
     "execution_count": 47,
     "metadata": {},
     "output_type": "execute_result"
    }
   ],
   "source": [
    "action_space.sample()"
   ]
  },
  {
   "cell_type": "code",
   "execution_count": null,
   "id": "8dce3456",
   "metadata": {},
   "outputs": [],
   "source": []
  },
  {
   "cell_type": "code",
   "execution_count": null,
   "id": "35eec27e",
   "metadata": {},
   "outputs": [],
   "source": []
  },
  {
   "cell_type": "code",
   "execution_count": null,
   "id": "02508bf1",
   "metadata": {},
   "outputs": [],
   "source": []
  },
  {
   "cell_type": "code",
   "execution_count": null,
   "id": "069fd782",
   "metadata": {},
   "outputs": [],
   "source": []
  }
 ],
 "metadata": {
  "kernelspec": {
   "display_name": "Python [conda env:robot] *",
   "language": "python",
   "name": "conda-env-robot-py"
  },
  "language_info": {
   "codemirror_mode": {
    "name": "ipython",
    "version": 3
   },
   "file_extension": ".py",
   "mimetype": "text/x-python",
   "name": "python",
   "nbconvert_exporter": "python",
   "pygments_lexer": "ipython3",
   "version": "3.7.9"
  }
 },
 "nbformat": 4,
 "nbformat_minor": 5
}
