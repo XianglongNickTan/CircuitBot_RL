{
 "cells": [
  {
   "cell_type": "code",
   "execution_count": 2,
   "id": "d66d938b",
   "metadata": {},
   "outputs": [],
   "source": [
    "import pybullet as p\n",
    "import time\n",
    "import cv2\n",
    "import pybullet_data\n",
    "import numpy as np"
   ]
  },
  {
   "cell_type": "code",
   "execution_count": 32,
   "id": "aeb0d9d1",
   "metadata": {},
   "outputs": [],
   "source": [
    "physicsClient = p.connect(p.DIRECT)#or p.DIRECT for non-graphical version\n",
    "p.setAdditionalSearchPath(pybullet_data.getDataPath()) #optionally\n",
    "p.setGravity(0,0,-10)\n",
    "planeId = p.loadURDF(\"plane.urdf\")\n",
    "startPos = [0,0,1]\n",
    "startOrientation = p.getQuaternionFromEuler([0,0,0])\n",
    "boxId = p.loadURDF(\"r2d2.urdf\",startPos, startOrientation)\n",
    "\n",
    "trayId = p.loadURDF(\"tray/tray.urdf\")"
   ]
  },
  {
   "cell_type": "code",
   "execution_count": 8,
   "id": "82158d06",
   "metadata": {},
   "outputs": [],
   "source": [
    "width, height = 106, 84\n",
    "viewMatrix = p.computeViewMatrix([0, 0, 1.5], [0, 0, -1],\n",
    "                                      [0, 1, 0])\n",
    "projMatrix = p.computeProjectionMatrixFOV(\n",
    "    fov=45, aspect=4. / 3., nearVal=0.01, farVal=2.5)\n",
    "light = {\n",
    "    \"diffuse\": 0.4,\n",
    "    \"ambient\": 0.5,\n",
    "    \"spec\": 0.2,\n",
    "    \"dir\": [10, 10, 100],\n",
    "    \"col\": [1, 1, 1]}\n",
    "w, h, rgba, depth, mask = p.getCameraImage(\n",
    "    width=width,\n",
    "    height=height,\n",
    "    projectionMatrix=projMatrix,\n",
    "    viewMatrix=viewMatrix,\n",
    "    shadow=1,\n",
    "    lightAmbientCoeff=light[\"ambient\"],\n",
    "    lightDiffuseCoeff=light[\"diffuse\"],\n",
    "    lightSpecularCoeff=light[\"spec\"],\n",
    "    lightDirection=light[\"dir\"],\n",
    "    lightColor=light[\"col\"]\n",
    ")"
   ]
  },
  {
   "cell_type": "code",
   "execution_count": 16,
   "id": "b2c508a2",
   "metadata": {},
   "outputs": [
    {
     "data": {
      "text/plain": [
       "28224"
      ]
     },
     "execution_count": 16,
     "metadata": {},
     "output_type": "execute_result"
    }
   ],
   "source": [
    "rgb = np.array(rgba, dtype=np.float).reshape(height, width, 4) / 255\n",
    "rgb[:, :, 3], rgb[:, :, 2] = rgb[:, :, 2], rgb[:, :, 0]\n",
    "rgb[:, :, 0] = rgb[:, :, 3]\n",
    "rgb = rgb[:, 11:-11, :]\n",
    "rgb.size"
   ]
  },
  {
   "cell_type": "code",
   "execution_count": 30,
   "id": "ee9488da",
   "metadata": {},
   "outputs": [
    {
     "data": {
      "text/plain": [
       "106"
      ]
     },
     "execution_count": 30,
     "metadata": {},
     "output_type": "execute_result"
    }
   ],
   "source": [
    "depth_map = np.array(depth, dtype=np.float).reshape(height, width)\n",
    "depth_map[1].size"
   ]
  },
  {
   "cell_type": "code",
   "execution_count": null,
   "id": "9fcad5b6",
   "metadata": {},
   "outputs": [],
   "source": [
    "for i in range (10000):\n",
    "    p.stepSimulation()\n",
    "    time.sleep(1./240.)\n",
    "    # render()\n",
    "\n",
    "cubePos, cubeOrn = p.getBasePositionAndOrientation(boxId)\n",
    "print(cubePos,cubeOrn)\n",
    "\n",
    "p.disconnect()"
   ]
  }
 ],
 "metadata": {
  "kernelspec": {
   "display_name": "Python [conda env:robot] *",
   "language": "python",
   "name": "conda-env-robot-py"
  },
  "language_info": {
   "codemirror_mode": {
    "name": "ipython",
    "version": 3
   },
   "file_extension": ".py",
   "mimetype": "text/x-python",
   "name": "python",
   "nbconvert_exporter": "python",
   "pygments_lexer": "ipython3",
   "version": "3.7.9"
  }
 },
 "nbformat": 4,
 "nbformat_minor": 5
}
