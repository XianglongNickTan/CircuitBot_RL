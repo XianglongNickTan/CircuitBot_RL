{
 "cells": [
  {
   "cell_type": "code",
   "execution_count": 49,
   "id": "40969145",
   "metadata": {},
   "outputs": [],
   "source": [
    "from gym import spaces\n",
    "import numpy as np\n",
    "import gym\n",
    "import random\n"
   ]
  },
  {
   "cell_type": "code",
   "execution_count": null,
   "id": "35c24198",
   "metadata": {},
   "outputs": [],
   "source": [
    "class MapEnv(gym.env):\n",
    "    def \n",
    "\n",
    "\n",
    "\n",
    "\n",
    "\n",
    "\n",
    "space = spaces.Discrete(8) # Set with 8 elements {0, 1, 2, ..., 7}\n",
    "x = space.sample()\n",
    "assert space.contains(x)\n",
    "assert space.n == 8"
   ]
  },
  {
   "cell_type": "code",
   "execution_count": 26,
   "id": "c93436ca",
   "metadata": {},
   "outputs": [],
   "source": [
    "action_space = spaces.Box(\n",
    "      low=np.array([0, 0, 0, 0, 0]), high=np.array([7, 7, 7, 7, 1]), dtype=np.int)"
   ]
  },
  {
   "cell_type": "code",
   "execution_count": 48,
   "id": "2a8cb4e5",
   "metadata": {},
   "outputs": [
    {
     "data": {
      "text/plain": [
       "array([0, 2, 7, 2])"
      ]
     },
     "execution_count": 48,
     "metadata": {},
     "output_type": "execute_result"
    }
   ],
   "source": [
    "observation_space = "
   ]
  },
  {
   "cell_type": "code",
   "execution_count": 64,
   "id": "a67237f6",
   "metadata": {},
   "outputs": [
    {
     "data": {
      "text/plain": [
       "4"
      ]
     },
     "execution_count": 64,
     "metadata": {},
     "output_type": "execute_result"
    }
   ],
   "source": [
    "a = np.array(([2,1],[3,4]))\n",
    "a[1,1]"
   ]
  },
  {
   "cell_type": "code",
   "execution_count": 63,
   "id": "1fdf4f5a",
   "metadata": {},
   "outputs": [
    {
     "data": {
      "text/plain": [
       "array([[4, 1, 2, 4, 1, 4, 2, 2],\n",
       "       [1, 2, 1, 3, 2, 4, 2, 2],\n",
       "       [4, 4, 1, 3, 2, 1, 1, 4],\n",
       "       [1, 1, 3, 3, 1, 1, 2, 1],\n",
       "       [1, 2, 2, 3, 2, 2, 2, 2],\n",
       "       [2, 3, 2, 2, 1, 1, 3, 3],\n",
       "       [2, 4, 2, 3, 4, 1, 4, 4],\n",
       "       [2, 2, 1, 4, 1, 4, 4, 1]])"
      ]
     },
     "execution_count": 63,
     "metadata": {},
     "output_type": "execute_result"
    }
   ],
   "source": [
    "np.random.randint(1,5,(8,8))"
   ]
  },
  {
   "cell_type": "code",
   "execution_count": 76,
   "id": "4b505c5d",
   "metadata": {},
   "outputs": [],
   "source": [
    "a = np.ones((1,3))"
   ]
  },
  {
   "cell_type": "code",
   "execution_count": 77,
   "id": "d91f24cc",
   "metadata": {},
   "outputs": [],
   "source": [
    "b = a.reshape(3,1)"
   ]
  },
  {
   "cell_type": "code",
   "execution_count": 79,
   "id": "ede2fc43",
   "metadata": {},
   "outputs": [
    {
     "data": {
      "text/plain": [
       "array([[1.],\n",
       "       [1.],\n",
       "       [1.]])"
      ]
     },
     "execution_count": 79,
     "metadata": {},
     "output_type": "execute_result"
    }
   ],
   "source": [
    "b"
   ]
  }
 ],
 "metadata": {
  "kernelspec": {
   "display_name": "Python [conda env:robot] *",
   "language": "python",
   "name": "conda-env-robot-py"
  },
  "language_info": {
   "codemirror_mode": {
    "name": "ipython",
    "version": 3
   },
   "file_extension": ".py",
   "mimetype": "text/x-python",
   "name": "python",
   "nbconvert_exporter": "python",
   "pygments_lexer": "ipython3",
   "version": "3.7.9"
  }
 },
 "nbformat": 4,
 "nbformat_minor": 5
}
