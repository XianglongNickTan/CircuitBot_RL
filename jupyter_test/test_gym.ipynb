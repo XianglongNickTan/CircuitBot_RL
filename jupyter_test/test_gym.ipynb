{
 "cells": [
  {
   "cell_type": "code",
   "execution_count": 110,
   "id": "1a62d46b",
   "metadata": {},
   "outputs": [],
   "source": [
    "import numpy as np\n",
    "from gym import spaces, Env\n",
    "import random\n",
    "\n",
    "\n",
    "class Map():\n",
    "    def __init__(self,\n",
    "                 map_row=8,\n",
    "                 map_column=8):\n",
    "\n",
    "        self.row = map_row\n",
    "        self.column = map_column\n",
    "\n",
    "        self.weight_map = np.zeros((self.row, self.column), dtype=\"float32\")\n",
    "\n",
    "        self.pre_map = self.weight_map\n",
    "\n",
    "        self.path_length = 0\n",
    "\n",
    "        self.success = False\n",
    "\n",
    "        self.shape_rec = np.ones((1, 3), dtype=\"float32\")\n",
    "\n",
    "        self.init_map()\n",
    "\n",
    "\n",
    "\n",
    "\n",
    "\n",
    "    def init_map(self, rgb_map=None, depth_map=None):\n",
    "        \"\"\" generate init map from rgb and depth map.\"\"\"\n",
    "\n",
    "        self.weight_map[2, 2:5] = self.shape_rec\n",
    "\n",
    "\n",
    "\n",
    "\n",
    "\n",
    "    def apply_action(self, action):\n",
    "        \"\"\" apply action to update the map.\n",
    "            action = [x, y]\n",
    "        \"\"\"\n",
    "        move_point = action\n",
    "\n",
    "        action = np.clip(action, [0, 1], [7, 6])\n",
    "\n",
    "        self.weight_map = np.zeros((self.row, self.column), dtype=\"float32\")\n",
    "\n",
    "        self.weight_map[action[0], action[1] - 1: action[1] + 2] = self.shape_rec\n",
    "\n",
    "\n",
    "        \n",
    "\n",
    "\n",
    "\n",
    "\n",
    "    #\n",
    "    # def get_observation(self):\n",
    "    #     \"\"\" return observation. \"\"\"\n",
    "    #\n",
    "    #     pass\n",
    "\n"
   ]
  },
  {
   "cell_type": "code",
   "execution_count": 111,
   "id": "f11652be",
   "metadata": {},
   "outputs": [],
   "source": [
    "my_map = Map()"
   ]
  },
  {
   "cell_type": "code",
   "execution_count": 113,
   "id": "6a4dbe31",
   "metadata": {},
   "outputs": [
    {
     "data": {
      "text/plain": [
       "array([[0., 0., 0., 0., 0., 0., 0., 0.],\n",
       "       [0., 0., 0., 0., 0., 0., 0., 0.],\n",
       "       [0., 0., 1., 1., 1., 0., 0., 0.],\n",
       "       [0., 0., 0., 0., 0., 0., 0., 0.],\n",
       "       [0., 0., 0., 0., 0., 0., 0., 0.],\n",
       "       [0., 0., 0., 0., 0., 0., 0., 0.],\n",
       "       [0., 0., 0., 0., 0., 0., 0., 0.],\n",
       "       [0., 0., 0., 0., 0., 0., 0., 0.]], dtype=float32)"
      ]
     },
     "execution_count": 113,
     "metadata": {},
     "output_type": "execute_result"
    }
   ],
   "source": [
    "my_map.weight_map"
   ]
  },
  {
   "cell_type": "code",
   "execution_count": 115,
   "id": "13e706e4",
   "metadata": {},
   "outputs": [
    {
     "data": {
      "text/plain": [
       "array([[0., 0., 0., 0., 0., 0., 0., 0.],\n",
       "       [0., 0., 0., 0., 1., 1., 1., 0.],\n",
       "       [0., 0., 0., 0., 0., 0., 0., 0.],\n",
       "       [0., 0., 0., 0., 0., 0., 0., 0.],\n",
       "       [0., 0., 0., 0., 0., 0., 0., 0.],\n",
       "       [0., 0., 0., 0., 0., 0., 0., 0.],\n",
       "       [0., 0., 0., 0., 0., 0., 0., 0.],\n",
       "       [0., 0., 0., 0., 0., 0., 0., 0.]], dtype=float32)"
      ]
     },
     "execution_count": 115,
     "metadata": {},
     "output_type": "execute_result"
    }
   ],
   "source": [
    "my_map.apply_action([1,5])\n",
    "my_map.weight_map"
   ]
  },
  {
   "cell_type": "code",
   "execution_count": null,
   "id": "64a41294",
   "metadata": {},
   "outputs": [],
   "source": []
  }
 ],
 "metadata": {
  "kernelspec": {
   "display_name": "Python [conda env:robot] *",
   "language": "python",
   "name": "conda-env-robot-py"
  },
  "language_info": {
   "codemirror_mode": {
    "name": "ipython",
    "version": 3
   },
   "file_extension": ".py",
   "mimetype": "text/x-python",
   "name": "python",
   "nbconvert_exporter": "python",
   "pygments_lexer": "ipython3",
   "version": "3.7.9"
  }
 },
 "nbformat": 4,
 "nbformat_minor": 5
}
